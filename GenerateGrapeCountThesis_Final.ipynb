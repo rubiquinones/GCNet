{
  "nbformat": 4,
  "nbformat_minor": 0,
  "metadata": {
    "colab": {
      "provenance": [],
      "gpuType": "T4"
    },
    "kernelspec": {
      "name": "python3",
      "display_name": "Python 3"
    },
    "language_info": {
      "name": "python"
    },
    "accelerator": "GPU"
  },
  "cells": [
    {
      "cell_type": "code",
      "execution_count": 1,
      "metadata": {
        "id": "5PiIj4ynD88y"
      },
      "outputs": [],
      "source": [
        "import pandas as pd\n",
        "\n",
        "resolution = ''\n",
        "#Change dimension in two places\n",
        "prefix_path = ''\n",
        "ground_truth_prefix = ''\n",
        "images_prefix = ''\n",
        "segmented_images=''\n",
        "color = ''\n",
        "test_segmented_images=''"
      ]
    },
    {
      "cell_type": "code",
      "source": [
        "# Dynamically construct the path to the Excel file based on the color variable\n",
        "excel_file_path_training = prefix_path+'TrainingData.xlsx'\n",
        "excel_file_path_testing = prefix_path+'TestingData.xlsx'\n",
        "\n",
        "\n",
        "# Read the Excel file into a DataFrame\n",
        "grapes_df = pd.read_excel(excel_file_path_training)\n",
        "testing_grapes_df = pd.read_excel(excel_file_path_testing)"
      ],
      "metadata": {
        "id": "9ipR_4rkgMWj"
      },
      "execution_count": 2,
      "outputs": []
    },
    {
      "cell_type": "code",
      "source": [],
      "metadata": {
        "id": "HLYhZ_dWYMc0"
      },
      "execution_count": 2,
      "outputs": []
    },
    {
      "cell_type": "code",
      "source": [
        "# Update the 'Image' column to reflect the correct resolution, and prepend the prefix path\n",
        "\n",
        "grapes_df['Image'] = prefix_path + segmented_images + grapes_df['Image'].str.replace('Resolution', resolution)\n",
        "\n",
        "\n",
        "testing_grapes_df['Image'] = prefix_path + test_segmented_images + testing_grapes_df['Image'].str.replace('Resolution', resolution)\n",
        "\n",
        "\n",
        "# Display the DataFrame\n",
        "print(grapes_df.head())\n",
        "print(testing_grapes_df.head())\n",
        "\n",
        "\n"
      ],
      "metadata": {
        "colab": {
          "base_uri": "https://localhost:8080/"
        },
        "id": "i4D9rtNjgO3F",
        "outputId": "b855438c-8738-49d1-85ff-818bd1f52d17"
      },
      "execution_count": 3,
      "outputs": [
        {
          "output_type": "stream",
          "name": "stdout",
          "text": [
            "                                               Image  \\\n",
            "0  /content/drive/MyDrive/Dataset/GrapeSet/Segmen...   \n",
            "1  /content/drive/MyDrive/Dataset/GrapeSet/Segmen...   \n",
            "2  /content/drive/MyDrive/Dataset/GrapeSet/Segmen...   \n",
            "3  /content/drive/MyDrive/Dataset/GrapeSet/Segmen...   \n",
            "4  /content/drive/MyDrive/Dataset/GrapeSet/Segmen...   \n",
            "\n",
            "                            Mask  Weight  Count  \n",
            "0  Green/Setup1/A-B-C_SV180.jpeg    1131     75  \n",
            "1  Green/Setup1/A-D-G_SV180.jpeg    1400    113  \n",
            "2  Green/Setup1/A-F-J_SV180.jpeg    1369    108  \n",
            "3  Green/Setup1/B-I-G_SV180.jpeg    1222     95  \n",
            "4  Green/Setup1/D-B-H_SV180.jpeg    1418    126  \n",
            "                                               Image  \\\n",
            "0  /content/drive/MyDrive/Dataset/GrapeSet/TestSe...   \n",
            "1  /content/drive/MyDrive/Dataset/GrapeSet/TestSe...   \n",
            "2  /content/drive/MyDrive/Dataset/GrapeSet/TestSe...   \n",
            "3  /content/drive/MyDrive/Dataset/GrapeSet/TestSe...   \n",
            "4  /content/drive/MyDrive/Dataset/GrapeSet/TestSe...   \n",
            "\n",
            "                          Mask  Weight  Count  \n",
            "0  Green/Setup1/A-B-C_SV0.jpeg    1131     75  \n",
            "1  Green/Setup1/A-D-G_SV0.jpeg    1400    113  \n",
            "2  Green/Setup1/A-F-J_SV0.jpeg    1369    108  \n",
            "3  Green/Setup1/B-I-G_SV0.jpeg    1222     95  \n",
            "4  Green/Setup1/D-B-H_SV0.jpeg    1418    126  \n"
          ]
        }
      ]
    },
    {
      "cell_type": "code",
      "source": [
        "#testing_grapes_df = testing_grapes_df[testing_grapes_df['Image'].str.contains(color)]"
      ],
      "metadata": {
        "id": "LdTNGsCoYNs9"
      },
      "execution_count": 4,
      "outputs": []
    },
    {
      "cell_type": "code",
      "source": [
        "print(len(grapes_df))"
      ],
      "metadata": {
        "colab": {
          "base_uri": "https://localhost:8080/"
        },
        "id": "DG2A0ntj9wj3",
        "outputId": "9af24e5d-9616-4993-ff31-45d824bf2ed9"
      },
      "execution_count": 5,
      "outputs": [
        {
          "output_type": "stream",
          "name": "stdout",
          "text": [
            "440\n"
          ]
        }
      ]
    },
    {
      "cell_type": "code",
      "source": [
        "print(len(testing_grapes_df))"
      ],
      "metadata": {
        "colab": {
          "base_uri": "https://localhost:8080/"
        },
        "id": "dlczFO-3gR8J",
        "outputId": "8bcde719-d0f3-4c9d-b54f-c77cd1256d02"
      },
      "execution_count": 6,
      "outputs": [
        {
          "output_type": "stream",
          "name": "stdout",
          "text": [
            "120\n"
          ]
        }
      ]
    },
    {
      "cell_type": "code",
      "source": [],
      "metadata": {
        "id": "34MsqCRngR2U"
      },
      "execution_count": 6,
      "outputs": []
    },
    {
      "cell_type": "code",
      "source": [],
      "metadata": {
        "id": "3UX4ZAsrgRpb"
      },
      "execution_count": 6,
      "outputs": []
    },
    {
      "cell_type": "code",
      "source": [
        "from PIL import Image\n",
        "import matplotlib.pyplot as plt\n",
        "\n",
        "\n",
        "image_path = grapes_df['Image'].iloc[17]  # Get the first image path\n",
        "\n",
        "# Read the image\n",
        "image = Image.open(image_path)\n",
        "\n",
        "\n",
        "#Display the image\n",
        "plt.imshow(image)\n",
        "plt.axis('off')  # Turn off axis numbers and ticks\n",
        "plt.show()\n"
      ],
      "metadata": {
        "colab": {
          "base_uri": "https://localhost:8080/",
          "height": 406
        },
        "id": "ysocdIQAFAmp",
        "outputId": "707c5fbc-2d0e-4163-fb04-98a5b3767d9e"
      },
      "execution_count": 7,
      "outputs": [
        {
          "output_type": "display_data",
          "data": {
            "text/plain": [
              "<Figure size 640x480 with 1 Axes>"
            ],
            "image/png": "[encoded data removed]"
          },
          "metadata": {}
        }
      ]
    },
    {
      "cell_type": "code",
      "source": [
        "import cv2\n",
        "import numpy as np\n",
        "from tensorflow.keras.layers import Input, Dense, Conv2D, MaxPooling2D, Flatten, Dropout\n",
        "from tensorflow.keras.models import Model\n",
        "from tensorflow.keras.optimizers import Adam\n",
        "\n",
        "def load_and_preprocess_image(image_path, target_size=(480, 640)):\n",
        "    # Load image\n",
        "    img = cv2.imread(image_path)\n",
        "    # Resize image\n",
        "    img_resized = cv2.resize(img, (target_size[1], target_size[0]))  # Correct order: height, width\n",
        "    # Normalize the image\n",
        "    img_normalized = img_resized / 255.0\n",
        "    return img_normalized\n",
        "\n",
        "# Assuming grapes_df is for training and testing_grapes_df is for testing\n",
        "# and both have the 'Image', 'Count', and 'Weight ' columns\n",
        "# Prepare training data\n",
        "X_train = np.array([load_and_preprocess_image(path) for path in grapes_df['Image']])\n",
        "y_counts_train = grapes_df['Count'].values\n",
        "y_weights_train = grapes_df['Weight'].values\n"
      ],
      "metadata": {
        "id": "JrvZg77MFkqo"
      },
      "execution_count": 8,
      "outputs": []
    },
    {
      "cell_type": "code",
      "source": [
        "\n",
        "\n",
        "# Prepare testing data\n",
        "X_test = np.array([load_and_preprocess_image(path) for path in testing_grapes_df['Image']])\n",
        "y_counts_test = testing_grapes_df['Count'].values\n",
        "y_weights_test = testing_grapes_df['Weight'].values\n"
      ],
      "metadata": {
        "id": "62WU9kZXpiKi"
      },
      "execution_count": 9,
      "outputs": []
    },
    {
      "cell_type": "code",
      "source": [
        "\n",
        "# Model input layer adjusted to the target size used in the preprocessing\n",
        "input_layer = Input(shape=(480, 640, 3))\n",
        "\n",
        "# Convolutional layers\n",
        "x = Conv2D(32, (3, 3), activation='relu')(input_layer)\n",
        "x = MaxPooling2D(2, 2)(x)\n",
        "x = Conv2D(64, (3, 3), activation='relu')(x)\n",
        "x = MaxPooling2D(2, 2)(x)\n",
        "x = Flatten()(x)\n",
        "\n",
        "# Shared dense layers\n",
        "x = Dense(128, activation='relu')(x)\n",
        "x = Dropout(0.5)(x)\n",
        "\n",
        "# Separate output layers for count and weight\n",
        "count_output = Dense(1, activation='linear', name='count_output')(x)\n",
        "weight_output = Dense(1, activation='linear', name='weight_output')(x)\n",
        "\n",
        "# Define the model with the input layer and two output layers\n",
        "model = Model(inputs=input_layer, outputs=[count_output, weight_output])\n",
        "\n",
        "# Compile the model with multiple outputs\n",
        "model.compile(optimizer=Adam(learning_rate=0.001),\n",
        "              loss={'count_output': 'mean_squared_error', 'weight_output': 'mean_squared_error'},\n",
        "              metrics={'count_output': ['mae'], 'weight_output': ['mae']})\n",
        "\n",
        "# Train the model with the training data\n",
        "model.fit(X_train, {'count_output': y_counts_train, 'weight_output': y_weights_train}, epochs=50, batch_size=8)\n",
        "\n",
        "\n"
      ],
      "metadata": {
        "colab": {
          "base_uri": "https://localhost:8080/"
        },
        "id": "HyEouZJhFq6x",
        "outputId": "5de97b25-d06c-4dba-c726-2a1464dda787"
      },
      "execution_count": null,
      "outputs": [
        {
          "output_type": "stream",
          "name": "stdout",
          "text": [
            "Epoch 1/50\n",
            "55/55 [==============================] - 14s 95ms/step - loss: 629800.9375 - count_output_loss: 53403.5742 - weight_output_loss: 576397.1875 - count_output_mae: 183.5538 - weight_output_mae: 595.6354\n",
            "Epoch 2/50\n",
            "55/55 [==============================] - 5s 98ms/step - loss: 132473.3125 - count_output_loss: 34189.2500 - weight_output_loss: 98284.0703 - count_output_mae: 147.2056 - weight_output_mae: 247.9767\n",
            "Epoch 3/50\n",
            "55/55 [==============================] - 5s 96ms/step - loss: 104272.6641 - count_output_loss: 22759.2363 - weight_output_loss: 81513.3984 - count_output_mae: 117.8670 - weight_output_mae: 230.2223\n",
            "Epoch 4/50\n",
            "55/55 [==============================] - 5s 98ms/step - loss: 92815.5078 - count_output_loss: 18875.8730 - weight_output_loss: 73939.6484 - count_output_mae: 110.0406 - weight_output_mae: 221.2451\n",
            "Epoch 5/50\n",
            "55/55 [==============================] - 5s 97ms/step - loss: 98311.3984 - count_output_loss: 14230.2090 - weight_output_loss: 84081.1875 - count_output_mae: 96.1552 - weight_output_mae: 231.5399\n",
            "Epoch 6/50\n",
            "55/55 [==============================] - 5s 96ms/step - loss: 85590.8203 - count_output_loss: 13400.1816 - weight_output_loss: 72190.6250 - count_output_mae: 89.7225 - weight_output_mae: 220.5661\n",
            "Epoch 7/50\n",
            "55/55 [==============================] - 5s 98ms/step - loss: 84984.6250 - count_output_loss: 9372.3447 - weight_output_loss: 75612.2656 - count_output_mae: 76.7967 - weight_output_mae: 220.6825\n",
            "Epoch 8/50\n",
            "55/55 [==============================] - 5s 96ms/step - loss: 78783.4375 - count_output_loss: 7889.7114 - weight_output_loss: 70893.7109 - count_output_mae: 71.1158 - weight_output_mae: 213.4457\n",
            "Epoch 9/50\n",
            "55/55 [==============================] - 5s 99ms/step - loss: 76467.6719 - count_output_loss: 7754.9194 - weight_output_loss: 68712.7578 - count_output_mae: 69.1861 - weight_output_mae: 211.8064\n",
            "Epoch 10/50\n",
            "55/55 [==============================] - 5s 97ms/step - loss: 77944.6875 - count_output_loss: 5458.2051 - weight_output_loss: 72486.5078 - count_output_mae: 57.6331 - weight_output_mae: 215.7264\n",
            "Epoch 11/50\n",
            "55/55 [==============================] - 5s 98ms/step - loss: 84764.6484 - count_output_loss: 5214.0444 - weight_output_loss: 79550.6094 - count_output_mae: 57.6788 - weight_output_mae: 227.2879\n",
            "Epoch 12/50\n",
            "55/55 [==============================] - 5s 99ms/step - loss: 64292.8398 - count_output_loss: 4424.5903 - weight_output_loss: 59868.2422 - count_output_mae: 53.2405 - weight_output_mae: 197.3757\n",
            "Epoch 13/50\n",
            "55/55 [==============================] - 5s 97ms/step - loss: 70998.6797 - count_output_loss: 3261.8943 - weight_output_loss: 67736.7891 - count_output_mae: 45.5131 - weight_output_mae: 208.8266\n",
            "Epoch 14/50\n",
            "55/55 [==============================] - 5s 99ms/step - loss: 61546.5391 - count_output_loss: 3621.3206 - weight_output_loss: 57925.2188 - count_output_mae: 46.7546 - weight_output_mae: 189.3129\n",
            "Epoch 15/50\n",
            "55/55 [==============================] - 5s 98ms/step - loss: 70779.2031 - count_output_loss: 3290.1951 - weight_output_loss: 67489.0078 - count_output_mae: 45.7341 - weight_output_mae: 210.3365\n",
            "Epoch 16/50\n",
            "55/55 [==============================] - 5s 98ms/step - loss: 76519.1328 - count_output_loss: 2846.3235 - weight_output_loss: 73672.8281 - count_output_mae: 42.8917 - weight_output_mae: 219.1887\n",
            "Epoch 17/50\n",
            "55/55 [==============================] - 5s 99ms/step - loss: 78982.7031 - count_output_loss: 2491.9885 - weight_output_loss: 76490.7031 - count_output_mae: 39.3300 - weight_output_mae: 216.9483\n",
            "Epoch 18/50\n",
            "55/55 [==============================] - 5s 97ms/step - loss: 61552.1992 - count_output_loss: 2858.7861 - weight_output_loss: 58693.3984 - count_output_mae: 42.5045 - weight_output_mae: 193.5483\n",
            "Epoch 19/50\n",
            "55/55 [==============================] - 5s 100ms/step - loss: 61226.6719 - count_output_loss: 2356.6121 - weight_output_loss: 58870.0508 - count_output_mae: 39.1653 - weight_output_mae: 193.2960\n",
            "Epoch 20/50\n",
            "55/55 [==============================] - 5s 97ms/step - loss: 60196.4102 - count_output_loss: 2106.9253 - weight_output_loss: 58089.4922 - count_output_mae: 35.8297 - weight_output_mae: 191.3151\n",
            "Epoch 21/50\n",
            "55/55 [==============================] - 5s 98ms/step - loss: 72508.9375 - count_output_loss: 2460.9458 - weight_output_loss: 70047.9922 - count_output_mae: 39.6236 - weight_output_mae: 211.0259\n",
            "Epoch 22/50\n",
            "55/55 [==============================] - 5s 98ms/step - loss: 63446.6484 - count_output_loss: 2283.0461 - weight_output_loss: 61163.6133 - count_output_mae: 38.4297 - weight_output_mae: 197.1596\n",
            "Epoch 23/50\n",
            "55/55 [==============================] - 5s 97ms/step - loss: 58936.3086 - count_output_loss: 1844.8597 - weight_output_loss: 57091.4453 - count_output_mae: 35.0063 - weight_output_mae: 188.5235\n",
            "Epoch 24/50\n",
            "55/55 [==============================] - 5s 99ms/step - loss: 53122.4102 - count_output_loss: 1622.5007 - weight_output_loss: 51499.9102 - count_output_mae: 31.8187 - weight_output_mae: 184.4471\n",
            "Epoch 25/50\n",
            "55/55 [==============================] - 5s 97ms/step - loss: 65714.3594 - count_output_loss: 1956.3754 - weight_output_loss: 63757.9727 - count_output_mae: 36.0816 - weight_output_mae: 202.2121\n",
            "Epoch 26/50\n",
            "55/55 [==============================] - 5s 99ms/step - loss: 61481.1406 - count_output_loss: 1813.4781 - weight_output_loss: 59667.6602 - count_output_mae: 34.3988 - weight_output_mae: 194.6904\n",
            "Epoch 27/50\n",
            "55/55 [==============================] - 5s 98ms/step - loss: 53809.1055 - count_output_loss: 1646.0973 - weight_output_loss: 52163.0078 - count_output_mae: 32.3953 - weight_output_mae: 182.9847\n",
            "Epoch 28/50\n",
            "55/55 [==============================] - 5s 97ms/step - loss: 60086.2734 - count_output_loss: 1670.8619 - weight_output_loss: 58415.4141 - count_output_mae: 32.6722 - weight_output_mae: 195.3441\n",
            "Epoch 29/50\n",
            "55/55 [==============================] - 5s 100ms/step - loss: 56553.1562 - count_output_loss: 1728.0553 - weight_output_loss: 54825.1016 - count_output_mae: 33.4584 - weight_output_mae: 183.6406\n",
            "Epoch 30/50\n",
            "55/55 [==============================] - 5s 98ms/step - loss: 54609.9648 - count_output_loss: 1581.6083 - weight_output_loss: 53028.3516 - count_output_mae: 31.7682 - weight_output_mae: 181.7885\n",
            "Epoch 31/50\n",
            "55/55 [==============================] - 5s 99ms/step - loss: 70368.9609 - count_output_loss: 1889.2946 - weight_output_loss: 68479.6562 - count_output_mae: 35.2940 - weight_output_mae: 213.5764\n",
            "Epoch 32/50\n",
            "55/55 [==============================] - 5s 98ms/step - loss: 59551.6758 - count_output_loss: 1712.0465 - weight_output_loss: 57839.6211 - count_output_mae: 33.1012 - weight_output_mae: 193.4369\n",
            "Epoch 33/50\n",
            "55/55 [==============================] - 5s 98ms/step - loss: 55656.1289 - count_output_loss: 1518.0098 - weight_output_loss: 54138.1172 - count_output_mae: 31.5481 - weight_output_mae: 185.0390\n",
            "Epoch 34/50\n",
            "55/55 [==============================] - 5s 100ms/step - loss: 67408.9297 - count_output_loss: 1703.8439 - weight_output_loss: 65705.0859 - count_output_mae: 34.1503 - weight_output_mae: 206.8887\n",
            "Epoch 35/50\n",
            "55/55 [==============================] - 5s 98ms/step - loss: 64205.5781 - count_output_loss: 1768.2283 - weight_output_loss: 62437.3516 - count_output_mae: 33.9993 - weight_output_mae: 198.3610\n",
            "Epoch 36/50\n",
            "21/55 [==========>...................] - ETA: 3s - loss: 52910.9883 - count_output_loss: 1531.2754 - weight_output_loss: 51379.7148 - count_output_mae: 32.4489 - weight_output_mae: 184.7125"
          ]
        }
      ]
    },
    {
      "cell_type": "code",
      "source": [
        "# Evaluate the model with the testing data\n",
        "model_evaluation = model.evaluate(X_test, {'count_output': y_counts_test, 'weight_output': y_weights_test})\n"
      ],
      "metadata": {
        "id": "OxFgYP93wCG2"
      },
      "execution_count": null,
      "outputs": []
    },
    {
      "cell_type": "code",
      "source": [
        "import numpy as np\n",
        "\n",
        "# Generate predictions for the test dataset\n",
        "predictions = model.predict(X_test)\n",
        "\n",
        "# Assuming the first output of your model is the count prediction\n",
        "predicted_counts = predictions[0].flatten()  # Flatten in case predictions are in a 2D array\n",
        "\n",
        "# Assuming `y_counts_test` is your actual count values\n",
        "actual_counts = y_counts_test.flatten()  # Flatten to ensure it matches predicted_counts shape\n",
        "\n",
        "mae_count = model_evaluation[3]\n",
        "\n",
        "# Calculate the accuracy for each prediction\n",
        "accuracies = (1 - np.abs(predicted_counts - actual_counts) / actual_counts) * 100\n",
        "\n",
        "# Optionally, calculate the mean accuracy to get a single metric representing overall performance\n",
        "mean_accuracy = np.mean(accuracies)\n",
        "\n",
        "# Round the mean squared error and mean accuracy to two decimal places\n",
        "mae_rounded = np.round(mae_count, 0)\n",
        "mean_accuracy_rounded = np.round(mean_accuracy, 2)\n",
        "\n",
        "print(\"MAE:\", mae_rounded)\n",
        "print(\"Mean Accuracy (%):\", mean_accuracy_rounded)\n"
      ],
      "metadata": {
        "id": "J3yIGdtrM_ca"
      },
      "execution_count": null,
      "outputs": []
    },
    {
      "cell_type": "code",
      "source": [],
      "metadata": {
        "id": "7bSS3trXtXLJ"
      },
      "execution_count": null,
      "outputs": []
    },
    {
      "cell_type": "code",
      "source": [],
      "metadata": {
        "id": "lLAbbSt-tXDG"
      },
      "execution_count": null,
      "outputs": []
    },
    {
      "cell_type": "code",
      "source": [],
      "metadata": {
        "id": "wBQ_h-BetRlA"
      },
      "execution_count": null,
      "outputs": []
    }
  ]
}
